{
 "cells": [
  {
   "cell_type": "code",
   "execution_count": 80,
   "metadata": {},
   "outputs": [],
   "source": [
    "import pandas as pd\n",
    "import numpy as np\n",
    "sector_dict = {'Sector': 'a b c d e f g h i j k l'.split(), 'Subregion': ['a', 'b', 'c', 'aa', 'bb', 'cc', 'aaa', 'bbb', 'ccc', 'aaaa', 'bbbb', 'cccc'], 'Region': ['Aa', 'Bb', 'Cc', 'aA', 'bB', 'cC','Aa', 'Bb', 'Cc', 'aA', 'bB', 'cC'], 'Country': ['A', 'B', 'C', 'A', 'B', 'C', 'A', 'B', 'C', 'A', 'B', 'C'], 'Routes': [3,4,5,7,2,4,5,6,7,8,9,10], 'Rating': [1,2,3,1,3,3,1,3,2,1,1,1]}"
   ]
  },
  {
   "cell_type": "code",
   "execution_count": 21,
   "metadata": {},
   "outputs": [
    {
     "data": {
      "text/plain": [
       "{'Country': ['A', 'B', 'C', 'A', 'B', 'C', 'A', 'B', 'C', 'A', 'B', 'C'],\n",
       " 'Region': ['Aa',\n",
       "  'Bb',\n",
       "  'Cc',\n",
       "  'aA',\n",
       "  'bB',\n",
       "  'cC',\n",
       "  'Aa',\n",
       "  'Bb',\n",
       "  'Cc',\n",
       "  'aA',\n",
       "  'bB',\n",
       "  'cC'],\n",
       " 'Sector': ['a', 'b', 'c', 'd', 'e', 'f', 'g', 'h', 'i', 'j', 'k', 'l'],\n",
       " 'Subregion': ['a',\n",
       "  'b',\n",
       "  'c',\n",
       "  'aa',\n",
       "  'bb',\n",
       "  'cc',\n",
       "  'aaa',\n",
       "  'bbb',\n",
       "  'ccc',\n",
       "  'aaaa',\n",
       "  'bbbb',\n",
       "  'cccc']}"
      ]
     },
     "execution_count": 21,
     "metadata": {},
     "output_type": "execute_result"
    }
   ],
   "source": [
    "sector_dict"
   ]
  },
  {
   "cell_type": "code",
   "execution_count": 81,
   "metadata": {
    "collapsed": true
   },
   "outputs": [],
   "source": [
    "sector_df = pd.DataFrame(sector_dict)"
   ]
  },
  {
   "cell_type": "code",
   "execution_count": 82,
   "metadata": {},
   "outputs": [
    {
     "data": {
      "text/html": [
       "<div>\n",
       "<style scoped>\n",
       "    .dataframe tbody tr th:only-of-type {\n",
       "        vertical-align: middle;\n",
       "    }\n",
       "\n",
       "    .dataframe tbody tr th {\n",
       "        vertical-align: top;\n",
       "    }\n",
       "\n",
       "    .dataframe thead th {\n",
       "        text-align: right;\n",
       "    }\n",
       "</style>\n",
       "<table border=\"1\" class=\"dataframe\">\n",
       "  <thead>\n",
       "    <tr style=\"text-align: right;\">\n",
       "      <th></th>\n",
       "      <th>Country</th>\n",
       "      <th>Rating</th>\n",
       "      <th>Region</th>\n",
       "      <th>Routes</th>\n",
       "      <th>Sector</th>\n",
       "      <th>Subregion</th>\n",
       "    </tr>\n",
       "  </thead>\n",
       "  <tbody>\n",
       "    <tr>\n",
       "      <th>0</th>\n",
       "      <td>A</td>\n",
       "      <td>1</td>\n",
       "      <td>Aa</td>\n",
       "      <td>3</td>\n",
       "      <td>a</td>\n",
       "      <td>NaN</td>\n",
       "    </tr>\n",
       "    <tr>\n",
       "      <th>1</th>\n",
       "      <td>B</td>\n",
       "      <td>2</td>\n",
       "      <td>Bb</td>\n",
       "      <td>4</td>\n",
       "      <td>b</td>\n",
       "      <td>b</td>\n",
       "    </tr>\n",
       "    <tr>\n",
       "      <th>2</th>\n",
       "      <td>C</td>\n",
       "      <td>3</td>\n",
       "      <td>Cc</td>\n",
       "      <td>5</td>\n",
       "      <td>c</td>\n",
       "      <td>c</td>\n",
       "    </tr>\n",
       "    <tr>\n",
       "      <th>3</th>\n",
       "      <td>A</td>\n",
       "      <td>1</td>\n",
       "      <td>aA</td>\n",
       "      <td>7</td>\n",
       "      <td>d</td>\n",
       "      <td>NaN</td>\n",
       "    </tr>\n",
       "    <tr>\n",
       "      <th>4</th>\n",
       "      <td>B</td>\n",
       "      <td>3</td>\n",
       "      <td>bB</td>\n",
       "      <td>2</td>\n",
       "      <td>e</td>\n",
       "      <td>bb</td>\n",
       "    </tr>\n",
       "    <tr>\n",
       "      <th>5</th>\n",
       "      <td>C</td>\n",
       "      <td>3</td>\n",
       "      <td>cC</td>\n",
       "      <td>4</td>\n",
       "      <td>f</td>\n",
       "      <td>NaN</td>\n",
       "    </tr>\n",
       "    <tr>\n",
       "      <th>6</th>\n",
       "      <td>A</td>\n",
       "      <td>1</td>\n",
       "      <td>Aa</td>\n",
       "      <td>5</td>\n",
       "      <td>g</td>\n",
       "      <td>NaN</td>\n",
       "    </tr>\n",
       "    <tr>\n",
       "      <th>7</th>\n",
       "      <td>B</td>\n",
       "      <td>3</td>\n",
       "      <td>Bb</td>\n",
       "      <td>6</td>\n",
       "      <td>h</td>\n",
       "      <td>bbb</td>\n",
       "    </tr>\n",
       "    <tr>\n",
       "      <th>8</th>\n",
       "      <td>C</td>\n",
       "      <td>2</td>\n",
       "      <td>Cc</td>\n",
       "      <td>7</td>\n",
       "      <td>i</td>\n",
       "      <td>ccc</td>\n",
       "    </tr>\n",
       "    <tr>\n",
       "      <th>9</th>\n",
       "      <td>A</td>\n",
       "      <td>1</td>\n",
       "      <td>aA</td>\n",
       "      <td>8</td>\n",
       "      <td>j</td>\n",
       "      <td>aaaa</td>\n",
       "    </tr>\n",
       "    <tr>\n",
       "      <th>10</th>\n",
       "      <td>B</td>\n",
       "      <td>1</td>\n",
       "      <td>bB</td>\n",
       "      <td>9</td>\n",
       "      <td>k</td>\n",
       "      <td>bbbb</td>\n",
       "    </tr>\n",
       "    <tr>\n",
       "      <th>11</th>\n",
       "      <td>C</td>\n",
       "      <td>1</td>\n",
       "      <td>cC</td>\n",
       "      <td>10</td>\n",
       "      <td>l</td>\n",
       "      <td>cccc</td>\n",
       "    </tr>\n",
       "  </tbody>\n",
       "</table>\n",
       "</div>"
      ],
      "text/plain": [
       "   Country  Rating Region  Routes Sector Subregion\n",
       "0        A       1     Aa       3      a       NaN\n",
       "1        B       2     Bb       4      b         b\n",
       "2        C       3     Cc       5      c         c\n",
       "3        A       1     aA       7      d       NaN\n",
       "4        B       3     bB       2      e        bb\n",
       "5        C       3     cC       4      f       NaN\n",
       "6        A       1     Aa       5      g       NaN\n",
       "7        B       3     Bb       6      h       bbb\n",
       "8        C       2     Cc       7      i       ccc\n",
       "9        A       1     aA       8      j      aaaa\n",
       "10       B       1     bB       9      k      bbbb\n",
       "11       C       1     cC      10      l      cccc"
      ]
     },
     "execution_count": 82,
     "metadata": {},
     "output_type": "execute_result"
    }
   ],
   "source": [
    "sector_df.loc[[0,3,5,6],'Subregion'] = np.nan\n",
    "sector_df\n"
   ]
  },
  {
   "cell_type": "code",
   "execution_count": 25,
   "metadata": {},
   "outputs": [
    {
     "data": {
      "text/plain": [
       "MultiIndex(levels=[['A', 'B', 'C'], ['Aa', 'Bb', 'Cc'], ['a', 'b', 'c']],\n",
       "           labels=[[0, 1, 2], [0, 1, 2], [0, 1, 2]])"
      ]
     },
     "execution_count": 25,
     "metadata": {},
     "output_type": "execute_result"
    }
   ],
   "source": []
  },
  {
   "cell_type": "code",
   "execution_count": 86,
   "metadata": {},
   "outputs": [
    {
     "name": "stderr",
     "output_type": "stream",
     "text": [
      "/home/wojciech/anaconda3/lib/python3.6/site-packages/ipykernel_launcher.py:9: UserWarning: Boolean Series key will be reindexed to match DataFrame index.\n",
      "  if __name__ == '__main__':\n"
     ]
    },
    {
     "data": {
      "text/plain": [
       "{'A': {'Aa': {'a': {'count': 0    3\n",
       "    Name: Routes, dtype: int64, 'rating': 0    1\n",
       "    Name: Rating, dtype: int64, 'sector': 0    a\n",
       "    Name: Sector, dtype: object}, 'count': 8, 'g': {'count': 6    5\n",
       "    Name: Routes, dtype: int64, 'rating': 6    1\n",
       "    Name: Rating, dtype: int64, 'sector': 6    g\n",
       "    Name: Sector, dtype: object}, 'rating': 1.0},\n",
       "  'aA': {'aaaa': {'count': 8, 'j': {'count': 9    8\n",
       "     Name: Routes, dtype: int64, 'rating': 9    1\n",
       "     Name: Rating, dtype: int64, 'sector': 9    j\n",
       "     Name: Sector, dtype: object}, 'rating': 1.0},\n",
       "   'count': 15,\n",
       "   'd': {'count': 3    7\n",
       "    Name: Routes, dtype: int64, 'rating': 3    1\n",
       "    Name: Rating, dtype: int64, 'sector': 3    d\n",
       "    Name: Sector, dtype: object},\n",
       "   'rating': 1.0},\n",
       "  'count': 23,\n",
       "  'rating': 1.0},\n",
       " 'B': {'Bb': {'b': {'b': {'count': 1    4\n",
       "     Name: Routes, dtype: int64, 'rating': 1    2\n",
       "     Name: Rating, dtype: int64, 'sector': 1    b\n",
       "     Name: Sector, dtype: object}, 'count': 4, 'rating': 2.0},\n",
       "   'bbb': {'count': 6, 'h': {'count': 7    6\n",
       "     Name: Routes, dtype: int64, 'rating': 7    3\n",
       "     Name: Rating, dtype: int64, 'sector': 7    h\n",
       "     Name: Sector, dtype: object}, 'rating': 3.0},\n",
       "   'count': 10,\n",
       "   'rating': 2.5},\n",
       "  'bB': {'bb': {'count': 2, 'e': {'count': 4    2\n",
       "     Name: Routes, dtype: int64, 'rating': 4    3\n",
       "     Name: Rating, dtype: int64, 'sector': 4    e\n",
       "     Name: Sector, dtype: object}, 'rating': 3.0},\n",
       "   'bbbb': {'count': 9, 'k': {'count': 10    9\n",
       "     Name: Routes, dtype: int64, 'rating': 10    1\n",
       "     Name: Rating, dtype: int64, 'sector': 10    k\n",
       "     Name: Sector, dtype: object}, 'rating': 1.0},\n",
       "   'count': 11,\n",
       "   'rating': 2.0},\n",
       "  'count': 21,\n",
       "  'rating': 2.25},\n",
       " 'C': {'Cc': {'c': {'c': {'count': 2    5\n",
       "     Name: Routes, dtype: int64, 'rating': 2    3\n",
       "     Name: Rating, dtype: int64, 'sector': 2    c\n",
       "     Name: Sector, dtype: object}, 'count': 5, 'rating': 3.0},\n",
       "   'ccc': {'count': 7, 'i': {'count': 8    7\n",
       "     Name: Routes, dtype: int64, 'rating': 8    2\n",
       "     Name: Rating, dtype: int64, 'sector': 8    i\n",
       "     Name: Sector, dtype: object}, 'rating': 2.0},\n",
       "   'count': 12,\n",
       "   'rating': 2.5},\n",
       "  'cC': {'cccc': {'count': 10, 'l': {'count': 11    10\n",
       "     Name: Routes, dtype: int64, 'rating': 11    1\n",
       "     Name: Rating, dtype: int64, 'sector': 11    l\n",
       "     Name: Sector, dtype: object}, 'rating': 1.0},\n",
       "   'count': 14,\n",
       "   'f': {'count': 5    4\n",
       "    Name: Routes, dtype: int64, 'rating': 5    3\n",
       "    Name: Rating, dtype: int64, 'sector': 5    f\n",
       "    Name: Sector, dtype: object},\n",
       "   'rating': 2.0},\n",
       "  'count': 26,\n",
       "  'rating': 2.25}}"
      ]
     },
     "execution_count": 86,
     "metadata": {},
     "output_type": "execute_result"
    }
   ],
   "source": [
    "sector_df.sort_values('Country', inplace=True)\n",
    "sector_df.fillna('None', inplace=True)\n",
    "context_dict = {}\n",
    "for country in sector_df['Country'].unique():\n",
    "    country_subset = sector_df[sector_df['Country'] == country].sort_values('Region')\n",
    "    context_dict[country] = {'count': country_subset['Routes'].sum(),\n",
    "                            'rating': country_subset['Rating'].mean()}\n",
    "    for region in country_subset['Region'].unique():\n",
    "        region_subset = country_subset[sector_df['Region'] == region].sort_values('Subregion')\n",
    "        context_dict[country][region] = {'count': region_subset['Routes'].sum(),\n",
    "                                        'rating': region_subset['Rating'].mean()}\n",
    "        for subregion in region_subset['Subregion'].unique():\n",
    "            subregion_subset = region_subset[region_subset['Subregion'] == subregion].sort_values('Sector')\n",
    "            if subregion == 'None':\n",
    "                for sector in subregion_subset['Sector']:\n",
    "                    sector_subset = subregion_subset[subregion_subset['Sector'] == sector]\n",
    "                    context_dict[country][region][sector] = {'count': sector_subset['Routes'],\n",
    "                                                            'rating': sector_subset['Rating'],\n",
    "                                                            'sector': sector_subset['Sector']}\n",
    "            else:\n",
    "                context_dict[country][region][subregion] = {'count': subregion_subset['Routes'].sum(),\n",
    "                                                           'rating': subregion_subset['Rating'].mean()}\n",
    "                for sector in subregion_subset['Sector']:\n",
    "                    sector_subset = subregion_subset[subregion_subset['Sector'] == sector]\n",
    "                    context_dict[country][region][subregion][sector] = {'count': sector_subset['Routes'],\n",
    "                                                                        'rating': sector_subset['Rating'],\n",
    "                                                                        'sector': sector_subset['Sector']}\n",
    "            \n",
    "        \n",
    "context_dict        "
   ]
  },
  {
   "cell_type": "code",
   "execution_count": 87,
   "metadata": {
    "collapsed": true
   },
   "outputs": [],
   "source": [
    "SCALES =[\n",
    "            ['5.2','1','I','I'],\n",
    "            ['5.3','2','II','II'],\n",
    "            ['5.4','2+','II+','II+'],\n",
    "            ['5.5','3','III','III+'],\n",
    "            ['5.6','4','IV','IV'],\n",
    "            ['5.7','4+','V-','IV+'],\n",
    "            ['5.7','5a','V-','V-'],\n",
    "            ['5.8','5a','V','V'],\n",
    "            ['5.9','5b','V+','V+'],\n",
    "            ['5.10a','5b+','VI-','V+/ VI-'],\n",
    "            ['5.10b','5c','VI-','VI-'],\n",
    "            ['5.10c','6a','VI','VI'],\n",
    "            ['5.10d','6a+','VI+','VI+'],\n",
    "            ['5.11a','6b','VII-','VI.1'],\n",
    "            ['5.11b','6b+','VII','VI.1+'],\n",
    "            ['5.11c','6c','VII+','VI.2'],\n",
    "            ['5.11d','6c+','VIII-','VI.2+'],\n",
    "            ['5.12a','6c+','VIII-','VI.2+/VI.3'],\n",
    "            ['5.12b','7a','VIII','VI.3'],\n",
    "            ['5.12c','7a+','VIII+','VI.3+'],\n",
    "            ['5.12d','7b','IX–','VI.4'],\n",
    "            ['5.12d','7b+','IX–','VI.4'],\n",
    "            ['5.13a','7c','IX','VI.4+'],\n",
    "            ['5.13b','7c+','IX+','VI.5'],\n",
    "            ['5.13c','8a','IX+','VI.5+'],\n",
    "            ['5.13d','8a+','X-','VI.5+/ VI.6'],\n",
    "            ['5.14a','8b','X','VI.6'],\n",
    "            ['5.14b','8b+','X+','VI.6+'],\n",
    "            ['5.14c','8c','X+','VI.7'],\n",
    "            ['5.14d','8c+','XI-','VI.7+'],\n",
    "            ['5.15a','9a','XI','VI.8']\n",
    "    ]\n"
   ]
  },
  {
   "cell_type": "code",
   "execution_count": 88,
   "metadata": {
    "collapsed": true
   },
   "outputs": [],
   "source": [
    "scales_df = pd.DataFrame(SCALES)"
   ]
  },
  {
   "cell_type": "code",
   "execution_count": 93,
   "metadata": {},
   "outputs": [],
   "source": [
    "scales_df.columns = ['YDS', 'FR', 'UIAA', 'POL']"
   ]
  },
  {
   "cell_type": "code",
   "execution_count": 95,
   "metadata": {},
   "outputs": [
    {
     "data": {
      "text/plain": [
       "1    II\n",
       "Name: POL, dtype: object"
      ]
     },
     "execution_count": 95,
     "metadata": {},
     "output_type": "execute_result"
    }
   ],
   "source": [
    "scales_df[scales_df['YDS']=='5.3']['POL']"
   ]
  },
  {
   "cell_type": "code",
   "execution_count": null,
   "metadata": {
    "collapsed": true
   },
   "outputs": [],
   "source": []
  }
 ],
 "metadata": {
  "kernelspec": {
   "display_name": "Python 3",
   "language": "python",
   "name": "python3"
  },
  "language_info": {
   "codemirror_mode": {
    "name": "ipython",
    "version": 3
   },
   "file_extension": ".py",
   "mimetype": "text/x-python",
   "name": "python",
   "nbconvert_exporter": "python",
   "pygments_lexer": "ipython3",
   "version": "3.6.3"
  }
 },
 "nbformat": 4,
 "nbformat_minor": 2
}
